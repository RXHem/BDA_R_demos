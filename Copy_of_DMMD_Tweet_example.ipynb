{
  "nbformat": 4,
  "nbformat_minor": 0,
  "metadata": {
    "colab": {
      "provenance": [],
      "include_colab_link": true
    },
    "kernelspec": {
      "name": "python3",
      "display_name": "Python 3"
    },
    "language_info": {
      "name": "python"
    }
  },
  "cells": [
    {
      "cell_type": "markdown",
      "metadata": {
        "id": "view-in-github",
        "colab_type": "text"
      },
      "source": [
        "<a href=\"https://colab.research.google.com/github/RXHem/BDA_R_demos/blob/master/Copy_of_DMMD_Tweet_example.ipynb\" target=\"_parent\"><img src=\"https://colab.research.google.com/assets/colab-badge.svg\" alt=\"Open In Colab\"/></a>"
      ]
    },
    {
      "cell_type": "markdown",
      "source": [
        "Filename: **twiter_sample-small.json**"
      ],
      "metadata": {
        "id": "syBDdy-zHpwW"
      }
    },
    {
      "cell_type": "markdown",
      "source": [
        "Load the data in Python"
      ],
      "metadata": {
        "id": "tahbjn0vIhfy"
      }
    },
    {
      "cell_type": "code",
      "execution_count": null,
      "metadata": {
        "id": "j8y9_NRcHTnW"
      },
      "outputs": [],
      "source": [
        "# Use the json library\n",
        "import json\n",
        "\n",
        "file = open('twiter_sample-small.json')\n",
        "\n",
        "# data variable holds all the records of the file\n",
        "data = json.load(file)"
      ]
    },
    {
      "cell_type": "markdown",
      "source": [
        "Example of printing the data\n",
        "* The data is a list of dictionaries"
      ],
      "metadata": {
        "id": "xjYRgCz2IrCZ"
      }
    },
    {
      "cell_type": "code",
      "source": [
        "print(data)"
      ],
      "metadata": {
        "colab": {
          "base_uri": "https://localhost:8080/"
        },
        "id": "Ig12AgmgIV_o",
        "outputId": "74336334-e1dc-4205-e020-256fc4088101"
      },
      "execution_count": null,
      "outputs": [
        {
          "output_type": "stream",
          "name": "stdout",
          "text": [
            "[{'tweet_id': 1, 'author_id': 'sprintcare', 'inbound': False, 'created_at': 'Tue Oct 31 22:10:47 +0000 2017', 'text': '@115712 I understand. I would like to assist you. We would need to get you into a private secured link to further assist.', 'response_tweet_id': '2', 'in_response_to_tweet_id': 3}, {'tweet_id': 2, 'author_id': '115712', 'inbound': True, 'created_at': 'Tue Oct 31 22:11:45 +0000 2017', 'text': '@sprintcare and how do you propose we do that', 'response_tweet_id': '', 'in_response_to_tweet_id': 1}, {'tweet_id': 3, 'author_id': '115712', 'inbound': True, 'created_at': 'Tue Oct 31 22:08:27 +0000 2017', 'text': '@sprintcare I have sent several private messages and no one is responding as usual', 'response_tweet_id': '1', 'in_response_to_tweet_id': 4}, {'tweet_id': 4, 'author_id': 'sprintcare', 'inbound': False, 'created_at': 'Tue Oct 31 21:54:49 +0000 2017', 'text': '@115712 Please send us a Private Message so that we can further assist you. Just click ‘Message’ at the top of your profile.', 'response_tweet_id': '3', 'in_response_to_tweet_id': 5}, {'tweet_id': 5, 'author_id': '115712', 'inbound': True, 'created_at': 'Tue Oct 31 21:49:35 +0000 2017', 'text': '@sprintcare I did.', 'response_tweet_id': '4', 'in_response_to_tweet_id': 6}, {'tweet_id': 6, 'author_id': 'sprintcare', 'inbound': False, 'created_at': 'Tue Oct 31 21:46:24 +0000 2017', 'text': '@115712 Can you please send us a private message, so that I can gain further details about your account?', 'response_tweet_id': '5,7', 'in_response_to_tweet_id': 8}, {'tweet_id': 8, 'author_id': '115712', 'inbound': True, 'created_at': 'Tue Oct 31 21:45:10 +0000 2017', 'text': '@sprintcare is the worst customer service', 'response_tweet_id': '9,6,10', 'in_response_to_tweet_id': None}, {'tweet_id': 11, 'author_id': 'sprintcare', 'inbound': False, 'created_at': 'Tue Oct 31 22:10:35 +0000 2017', 'text': '@115713 This is saddening to hear. Please shoot us a DM, so that we can look into this for you. -KC', 'response_tweet_id': '', 'in_response_to_tweet_id': 12}, {'tweet_id': 12, 'author_id': '115713', 'inbound': True, 'created_at': 'Tue Oct 31 22:04:47 +0000 2017', 'text': '@sprintcare You gonna magically change your connectivity for me and my whole family ? 🤥 💯', 'response_tweet_id': '11,13,14', 'in_response_to_tweet_id': 15}, {'tweet_id': 15, 'author_id': 'sprintcare', 'inbound': False, 'created_at': 'Tue Oct 31 20:03:31 +0000 2017', 'text': \"@115713 We understand your concerns and we'd like for you to please send us a Direct Message, so that we can further assist you. -AA\", 'response_tweet_id': '12', 'in_response_to_tweet_id': 16}, {'tweet_id': 16, 'author_id': '115713', 'inbound': True, 'created_at': 'Tue Oct 31 20:00:43 +0000 2017', 'text': '@sprintcare Since I signed up with you....Since day 1', 'response_tweet_id': '15', 'in_response_to_tweet_id': 17}, {'tweet_id': 17, 'author_id': 'sprintcare', 'inbound': False, 'created_at': 'Tue Oct 31 19:59:13 +0000 2017', 'text': \"@115713 H there! We'd definitely like to work with you on this, how long have you been experiencing this issue? -AA\", 'response_tweet_id': '16', 'in_response_to_tweet_id': 18}, {'tweet_id': 18, 'author_id': '115713', 'inbound': True, 'created_at': 'Tue Oct 31 19:56:01 +0000 2017', 'text': '@115714 y’all lie about your “great” connection. 5 bars LTE, still won’t load something. Smh.', 'response_tweet_id': '17', 'in_response_to_tweet_id': None}, {'tweet_id': 19, 'author_id': 'sprintcare', 'inbound': False, 'created_at': 'Tue Oct 31 22:10:10 +0000 2017', 'text': '@115715 Please send me a private message so that I can send you the link to access your account. -FR', 'response_tweet_id': '', 'in_response_to_tweet_id': 20}, {'tweet_id': 20, 'author_id': '115715', 'inbound': True, 'created_at': 'Tue Oct 31 22:03:34 +0000 2017', 'text': \"@115714 whenever I contact customer support, they tell me I have shortcode enabled on my account, but I have never in the 4 years I've tried https://t.co/0G98RtNxPK\", 'response_tweet_id': '19', 'in_response_to_tweet_id': None}, {'tweet_id': 21, 'author_id': 'Ask_Spectrum', 'inbound': False, 'created_at': 'Tue Oct 31 22:14:37 +0000 2017', 'text': '@115716 What information is incorrect? ^JK', 'response_tweet_id': '22,23', 'in_response_to_tweet_id': 24}, {'tweet_id': 22, 'author_id': '115716', 'inbound': True, 'created_at': 'Tue Oct 31 22:16:48 +0000 2017', 'text': '@Ask_Spectrum Would you like me to email you a copy of one since Spectrum is not updating your training?', 'response_tweet_id': '25', 'in_response_to_tweet_id': 21}, {'tweet_id': 25, 'author_id': 'Ask_Spectrum', 'inbound': False, 'created_at': 'Tue Oct 31 22:18:28 +0000 2017', 'text': \"@115716 Our department is part of the corporate office.  If you're particular area has gone to this format, we were unawa... https://t.co/P7XCmTzPQj\", 'response_tweet_id': '26', 'in_response_to_tweet_id': 22}, {'tweet_id': 26, 'author_id': '115716', 'inbound': True, 'created_at': 'Tue Oct 31 22:19:56 +0000 2017', 'text': '@Ask_Spectrum I received this from your corporate office would you like a copy?', 'response_tweet_id': '27', 'in_response_to_tweet_id': 25}, {'tweet_id': 27, 'author_id': 'Ask_Spectrum', 'inbound': False, 'created_at': 'Tue Oct 31 22:21:26 +0000 2017', 'text': '@115716 No thank you. ^JK', 'response_tweet_id': '', 'in_response_to_tweet_id': 26}, {'tweet_id': 23, 'author_id': '115716', 'inbound': True, 'created_at': 'Tue Oct 31 22:16:05 +0000 2017', 'text': '@Ask_Spectrum The correct way to do it is via an OCS Account Takeover and email Consent Form it does not need to be done in a local office', 'response_tweet_id': '', 'in_response_to_tweet_id': 21}, {'tweet_id': 24, 'author_id': '115716', 'inbound': True, 'created_at': 'Tue Oct 31 22:13:02 +0000 2017', 'text': '@Ask_Spectrum That is INCORRECT information I have the form in front of me that is faxed over-maybe you need to maintain up to date information', 'response_tweet_id': '21', 'in_response_to_tweet_id': 28}, {'tweet_id': 28, 'author_id': 'Ask_Spectrum', 'inbound': False, 'created_at': 'Tue Oct 31 22:05:37 +0000 2017', 'text': '@115716 The information pertaining to the account assumption is correct.  This does need to be done at a local outlet wit... https://t.co/P7XCmTzPQj', 'response_tweet_id': '24', 'in_response_to_tweet_id': 29}, {'tweet_id': 29, 'author_id': '115716', 'inbound': True, 'created_at': 'Tue Oct 31 22:01:35 +0000 2017', 'text': \"actually that's a broken link you sent me and incorrect information https://t.co/V4yfrHR8VI\", 'response_tweet_id': '28', 'in_response_to_tweet_id': None}, {'tweet_id': 30, 'author_id': 'Ask_Spectrum', 'inbound': False, 'created_at': 'Tue Oct 31 22:12:09 +0000 2017', 'text': '@115717 Hello, My apologies for any frustrations or inconvenience. I’d be happy to look into this for you? ^MG', 'response_tweet_id': '', 'in_response_to_tweet_id': 31}, {'tweet_id': 31, 'author_id': '115717', 'inbound': True, 'created_at': 'Tue Oct 31 22:06:54 +0000 2017', 'text': 'Yo @Ask_Spectrum, your customer service reps are super nice— but imma start trippin if y’all don’t get my service going!', 'response_tweet_id': '30', 'in_response_to_tweet_id': None}, {'tweet_id': 32, 'author_id': 'Ask_Spectrum', 'inbound': False, 'created_at': 'Tue Oct 31 22:10:08 +0000 2017', 'text': '@115718 I apologize for the inconvenience. I will be glad to assist you. Can you DM me your Name and acct # or phone #? -JB', 'response_tweet_id': '', 'in_response_to_tweet_id': 33}, {'tweet_id': 33, 'author_id': '115718', 'inbound': True, 'created_at': 'Tue Oct 31 22:06:56 +0000 2017', 'text': 'My picture on @Ask_Spectrum pretty much every day. Why should I pay $171 per month? https://t.co/U6ptkQa5Ik', 'response_tweet_id': '32', 'in_response_to_tweet_id': None}, {'tweet_id': 34, 'author_id': 'VerizonSupport', 'inbound': False, 'created_at': 'Tue Oct 31 22:13:33 +0000 2017', 'text': '@115719 Help has arrived! We are sorry to see that you are having trouble. How can we help?\\n^HSB', 'response_tweet_id': '35', 'in_response_to_tweet_id': 36}, {'tweet_id': 35, 'author_id': '115719', 'inbound': True, 'created_at': 'Tue Oct 31 22:49:16 +0000 2017', 'text': '@VerizonSupport I finally got someone that helped me, thanks!', 'response_tweet_id': '37', 'in_response_to_tweet_id': 34}, {'tweet_id': 37, 'author_id': 'VerizonSupport', 'inbound': False, 'created_at': 'Tue Oct 31 22:52:00 +0000 2017', 'text': '@115719 Awesome! If you ever need us we are just a tweet away.\\n^HSB', 'response_tweet_id': '', 'in_response_to_tweet_id': 35}, {'tweet_id': 36, 'author_id': '115719', 'inbound': True, 'created_at': 'Tue Oct 31 22:10:46 +0000 2017', 'text': \"somebody from @VerizonSupport please help meeeeee 😩😩😩😩 I'm having the worst luck with your customer service\", 'response_tweet_id': '34', 'in_response_to_tweet_id': None}, {'tweet_id': 38, 'author_id': 'VerizonSupport', 'inbound': False, 'created_at': 'Tue Oct 31 22:13:30 +0000 2017', 'text': '@115720 Have your friend message us.\\n^ACM', 'response_tweet_id': '', 'in_response_to_tweet_id': 39}, {'tweet_id': 39, 'author_id': '115720', 'inbound': True, 'created_at': 'Tue Oct 31 22:12:16 +0000 2017', 'text': '@VerizonSupport My friend is without internet we need to play videogames together please our skills diminish every moment without internetz', 'response_tweet_id': '38', 'in_response_to_tweet_id': None}, {'tweet_id': 40, 'author_id': 'VerizonSupport', 'inbound': False, 'created_at': 'Tue Oct 31 22:12:00 +0000 2017', 'text': '@115721 Please follow and DM us so that we can look into this order. \\n^HSB', 'response_tweet_id': '41', 'in_response_to_tweet_id': 42}, {'tweet_id': 41, 'author_id': '115721', 'inbound': True, 'created_at': 'Tue Oct 31 22:24:55 +0000 2017', 'text': '@VerizonSupport What else can I provide? They refuse to help me because they cannot validate the account...', 'response_tweet_id': '43', 'in_response_to_tweet_id': 40}, {'tweet_id': 43, 'author_id': 'VerizonSupport', 'inbound': False, 'created_at': 'Tue Oct 31 22:29:00 +0000 2017', 'text': '@115721 We would not be able to verify anything without authenticating your account.\\n^JAY', 'response_tweet_id': '44', 'in_response_to_tweet_id': 41}, {'tweet_id': 44, 'author_id': '115721', 'inbound': True, 'created_at': 'Tue Oct 31 22:32:06 +0000 2017', 'text': \"@VerizonSupport How? I have my phone number and email, that's it. How did I get equipment and service? I'm literally trying to pay and nobody can find me?\", 'response_tweet_id': '45', 'in_response_to_tweet_id': 43}, {'tweet_id': 45, 'author_id': 'VerizonSupport', 'inbound': False, 'created_at': 'Tue Oct 31 22:36:29 +0000 2017', 'text': '@115721 We can use the order number to locate the account but will need to do so in our secure one on one chat. Please follow and DM us. \\n^HSB', 'response_tweet_id': '', 'in_response_to_tweet_id': 44}, {'tweet_id': 42, 'author_id': '115721', 'inbound': True, 'created_at': 'Tue Oct 31 22:06:21 +0000 2017', 'text': '@115722 MD. And this was sent to the wrong address https://t.co/dMQ1WZXJOk', 'response_tweet_id': '40', 'in_response_to_tweet_id': 46}, {'tweet_id': 46, 'author_id': '115722', 'inbound': True, 'created_at': 'Tue Oct 31 22:04:29 +0000 2017', 'text': '@115721 Hello Duke, Do you have a copy of your bill? What state are your services located in?\\n^NHP', 'response_tweet_id': '42', 'in_response_to_tweet_id': 47}, {'tweet_id': 47, 'author_id': '115721', 'inbound': True, 'created_at': 'Tue Oct 31 22:01:42 +0000 2017', 'text': \"@115722 Nobody can find my account or number. I walked out of a store with this. I've explained that they can find my acct via my devices serial #..\", 'response_tweet_id': '46', 'in_response_to_tweet_id': 48}, {'tweet_id': 48, 'author_id': '115722', 'inbound': True, 'created_at': 'Tue Oct 31 21:49:31 +0000 2017', 'text': '@115721 Are you referring to wireless or residential service?\\n^JAY', 'response_tweet_id': '47', 'in_response_to_tweet_id': 49}, {'tweet_id': 49, 'author_id': '115721', 'inbound': True, 'created_at': 'Tue Oct 31 21:42:09 +0000 2017', 'text': '@115722 tried to pay a bill for 60 days. No service, rude CS, and several transfers. Look up my equipment # and give me an acct #!', 'response_tweet_id': '48', 'in_response_to_tweet_id': None}, {'tweet_id': 50, 'author_id': 'VerizonSupport', 'inbound': False, 'created_at': 'Tue Oct 31 22:07:30 +0000 2017', 'text': '@115723 Is the light on top red?\\n^JAY', 'response_tweet_id': '', 'in_response_to_tweet_id': 51}, {'tweet_id': 51, 'author_id': '115723', 'inbound': True, 'created_at': 'Tue Oct 31 22:04:57 +0000 2017', 'text': '@VerizonSupport Don’t know, router is downstairs. But it’s just the WiFi Nothing connected to Ethernet', 'response_tweet_id': '50', 'in_response_to_tweet_id': 52}, {'tweet_id': 52, 'author_id': 'VerizonSupport', 'inbound': False, 'created_at': 'Tue Oct 31 22:03:57 +0000 2017', 'text': '@115723 Did the lights change on the router when this happened?\\n^JAY', 'response_tweet_id': '51', 'in_response_to_tweet_id': 53}, {'tweet_id': 53, 'author_id': '115723', 'inbound': True, 'created_at': 'Tue Oct 31 21:58:39 +0000 2017', 'text': '@VerizonSupport Just randomly boots me offline there it goes again', 'response_tweet_id': '52', 'in_response_to_tweet_id': 54}, {'tweet_id': 54, 'author_id': 'VerizonSupport', 'inbound': False, 'created_at': 'Tue Oct 31 20:11:54 +0000 2017', 'text': '@115723 Do you have our Fios service?  When services go out, does the internet light on the router change color? ^BCW', 'response_tweet_id': '53', 'in_response_to_tweet_id': 55}, {'tweet_id': 55, 'author_id': '115723', 'inbound': True, 'created_at': 'Tue Oct 31 20:09:13 +0000 2017', 'text': '@VerizonSupport Yep', 'response_tweet_id': '54', 'in_response_to_tweet_id': 56}, {'tweet_id': 56, 'author_id': 'VerizonSupport', 'inbound': False, 'created_at': 'Tue Oct 31 20:02:25 +0000 2017', 'text': '@115723 Are all your services cutting out?\\n^ACM', 'response_tweet_id': '55', 'in_response_to_tweet_id': 57}, {'tweet_id': 57, 'author_id': '115723', 'inbound': True, 'created_at': 'Tue Oct 31 19:58:22 +0000 2017', 'text': '@VerizonSupport Cuts out every 20 minutes this is ridiculous', 'response_tweet_id': '56', 'in_response_to_tweet_id': 58}, {'tweet_id': 58, 'author_id': 'VerizonSupport', 'inbound': False, 'created_at': 'Tue Oct 31 19:57:30 +0000 2017', 'text': '@115723 What did we do to make you feel this way and how can we fix things between us? ^KMG', 'response_tweet_id': '57', 'in_response_to_tweet_id': 59}, {'tweet_id': 59, 'author_id': '115723', 'inbound': True, 'created_at': 'Tue Oct 31 19:54:51 +0000 2017', 'text': '@115722 is the worst ISP I’ve ever had', 'response_tweet_id': '58', 'in_response_to_tweet_id': None}, {'tweet_id': 60, 'author_id': 'VerizonSupport', 'inbound': False, 'created_at': 'Tue Oct 31 22:04:29 +0000 2017', 'text': '@115724 In what area are you located? All of your services are down at this time?\\n^HSB', 'response_tweet_id': '', 'in_response_to_tweet_id': 61}, {'tweet_id': 61, 'author_id': '115724', 'inbound': True, 'created_at': 'Tue Oct 31 22:00:36 +0000 2017', 'text': '.@VerizonSupport @115725 @115726                                                 &gt;All of VERIZON IS DOWN&lt;\\nWhen can we expect a fix ?', 'response_tweet_id': '60', 'in_response_to_tweet_id': None}, {'tweet_id': 62, 'author_id': 'VerizonSupport', 'inbound': False, 'created_at': 'Tue Oct 31 22:00:29 +0000 2017', 'text': '@115727 Which app are you referring too? \\n^ACM', 'response_tweet_id': '', 'in_response_to_tweet_id': 63}, {'tweet_id': 63, 'author_id': '115727', 'inbound': True, 'created_at': 'Tue Oct 31 21:56:55 +0000 2017', 'text': \"@115725 fix your app it won't even open\", 'response_tweet_id': '62', 'in_response_to_tweet_id': None}, {'tweet_id': 64, 'author_id': 'ChipotleTweets', 'inbound': False, 'created_at': 'Tue Oct 31 22:14:28 +0000 2017', 'text': '@115728 I still think you look great! -Becky', 'response_tweet_id': '65', 'in_response_to_tweet_id': 66}, {'tweet_id': 65, 'author_id': '115728', 'inbound': True, 'created_at': 'Tue Oct 31 22:15:30 +0000 2017', 'text': '@ChipotleTweets @ChipotleTweets Becky is very nice', 'response_tweet_id': '', 'in_response_to_tweet_id': 64}, {'tweet_id': 66, 'author_id': '115728', 'inbound': True, 'created_at': 'Tue Oct 31 22:03:38 +0000 2017', 'text': \"@ChipotleTweets @28 \\nI don't fit in my Veggie Burrito costume #Halloween https://t.co/7tJDVpzLWn\", 'response_tweet_id': '64,67', 'in_response_to_tweet_id': None}, {'tweet_id': 68, 'author_id': 'ChipotleTweets', 'inbound': False, 'created_at': 'Tue Oct 31 22:14:00 +0000 2017', 'text': \"@115729 I'm so sorry about that. Please tell us more so we can help: https://t.co/Ax7W1Dx3Y9 -Becky\", 'response_tweet_id': '', 'in_response_to_tweet_id': 69}, {'tweet_id': 69, 'author_id': '115729', 'inbound': True, 'created_at': 'Tue Oct 31 22:03:32 +0000 2017', 'text': '@ChipotleTweets messed up today and didn’t give me my $3 burrito although I was dressed up 😭', 'response_tweet_id': '68', 'in_response_to_tweet_id': None}, {'tweet_id': 70, 'author_id': 'ChipotleTweets', 'inbound': False, 'created_at': 'Tue Oct 31 22:13:29 +0000 2017', 'text': \"@115730 Hopefully we'll get there at some point! -Becky\", 'response_tweet_id': '', 'in_response_to_tweet_id': 71}, {'tweet_id': 71, 'author_id': '115730', 'inbound': True, 'created_at': 'Tue Oct 31 22:03:06 +0000 2017', 'text': \"hey @ChipotleTweets wanna come to Mammoth. I'll at least eat there once a week i promise\", 'response_tweet_id': '70,72', 'in_response_to_tweet_id': None}, {'tweet_id': 73, 'author_id': 'ChipotleTweets', 'inbound': False, 'created_at': 'Tue Oct 31 22:12:39 +0000 2017', 'text': \"@115731 Guac on! I'm happy it was such a great experience. -Becky\", 'response_tweet_id': '', 'in_response_to_tweet_id': 74}, {'tweet_id': 74, 'author_id': '115731', 'inbound': True, 'created_at': 'Tue Oct 31 22:01:57 +0000 2017', 'text': '@ChipotleTweets I had excellent service tonight too! Plenty of people on the line, went very fast, everyone was kind!', 'response_tweet_id': '73', 'in_response_to_tweet_id': 75}, {'tweet_id': 75, 'author_id': 'ChipotleTweets', 'inbound': False, 'created_at': 'Tue Oct 31 20:37:31 +0000 2017', 'text': \"@115731 It's because you're smart. -Tara\", 'response_tweet_id': '74', 'in_response_to_tweet_id': 76}, {'tweet_id': 76, 'author_id': '115731', 'inbound': True, 'created_at': 'Tue Oct 31 20:21:10 +0000 2017', 'text': \"When you're the only one in costume #boorito @ChipotleTweets\", 'response_tweet_id': '75', 'in_response_to_tweet_id': None}, {'tweet_id': 77, 'author_id': 'ChipotleTweets', 'inbound': False, 'created_at': 'Tue Oct 31 22:11:38 +0000 2017', 'text': \"@115732 That's incredibly concerning. Please tell us more here: https://t.co/Ax7W1Dx3Y9 -Becky\", 'response_tweet_id': '', 'in_response_to_tweet_id': 78}, {'tweet_id': 78, 'author_id': '115732', 'inbound': True, 'created_at': 'Tue Oct 31 22:01:40 +0000 2017', 'text': '@ChipotleTweets no Diet Coke and a literal bone this Boorito was extra spooky! https://t.co/C4oCCtdUct', 'response_tweet_id': '77', 'in_response_to_tweet_id': None}, {'tweet_id': 79, 'author_id': 'ChipotleTweets', 'inbound': False, 'created_at': 'Tue Oct 31 22:11:12 +0000 2017', 'text': '@115733 Nope! Still just the $3. -Becky', 'response_tweet_id': '', 'in_response_to_tweet_id': 80}, {'tweet_id': 80, 'author_id': '115733', 'inbound': True, 'created_at': 'Tue Oct 31 22:01:32 +0000 2017', 'text': \"@ChipotleTweets If you get queso or quac on you're bowl, its extra?\", 'response_tweet_id': '79', 'in_response_to_tweet_id': 81}, {'tweet_id': 81, 'author_id': 'ChipotleTweets', 'inbound': False, 'created_at': 'Mon Oct 30 15:00:02 +0000 2017', 'text': 'Just stop by in costume 10/31 3pm-close. Official rules: https://t.co/1HmW7QxwEh https://t.co/Wn0xErxC2z', 'response_tweet_id': '80,82,83,84,85,86,87,88,89,90,91,92,93,94,95,96,97,98,99,100,101,102,103,104,105,106,107,108,109,110,111,112,113,114,115,116,117,118,119,120,121,122,123,124,125,126,127,128,129,130,131,132,133,134,135,136,137,138,139,140,141,142,143,144,145,146,147,148,149,150,151', 'in_response_to_tweet_id': None}, {'tweet_id': 152, 'author_id': 'ChipotleTweets', 'inbound': False, 'created_at': 'Tue Oct 31 22:10:33 +0000 2017', 'text': '@115734 I mean, Boorito is basically the adult version of Halloween... -Becky', 'response_tweet_id': '', 'in_response_to_tweet_id': 153}, {'tweet_id': 153, 'author_id': '115734', 'inbound': True, 'created_at': 'Tue Oct 31 22:01:03 +0000 2017', 'text': \"Happy Halloween! Since I'm too old to trick or treat I now look forward to $3 booritos at @ChipotleTweets 👻 I got mine earlier, did you?\", 'response_tweet_id': '152', 'in_response_to_tweet_id': None}, {'tweet_id': 154, 'author_id': 'ChipotleTweets', 'inbound': False, 'created_at': 'Tue Oct 31 22:09:00 +0000 2017', 'text': \"@115735 I'm so glad we could help. Who did you work with? I'd like to share the praise. -Becky\", 'response_tweet_id': '', 'in_response_to_tweet_id': 155}, {'tweet_id': 155, 'author_id': '115735', 'inbound': True, 'created_at': 'Tue Oct 31 22:00:46 +0000 2017', 'text': '@ChipotleTweets Thank you @ChipotleTweets for resolving my issue so quickly!! Y’all are the best ☺️ #fanforlife', 'response_tweet_id': '154', 'in_response_to_tweet_id': 156}, {'tweet_id': 156, 'author_id': '115735', 'inbound': True, 'created_at': 'Mon Oct 23 03:19:06 +0000 2017', 'text': 'So frustrated with @ChipotleTweets 😡 Ordered dinner on Saturday using their app. Order was wrong AND they charged my credit card twice', 'response_tweet_id': '155,157', 'in_response_to_tweet_id': None}, {'tweet_id': 158, 'author_id': 'ChipotleTweets', 'inbound': False, 'created_at': 'Tue Oct 31 22:08:00 +0000 2017', 'text': '@115736 All of our U.S. locations are participating! -Becky', 'response_tweet_id': '', 'in_response_to_tweet_id': 159}, {'tweet_id': 159, 'author_id': '115736', 'inbound': True, 'created_at': 'Tue Oct 31 22:00:10 +0000 2017', 'text': 'Btw @ChipotleTweets giving out $3 burritos if you dress up for Halloween 🎃 Call your Chipotle to make sure, they’re doing it @ select ones', 'response_tweet_id': '158', 'in_response_to_tweet_id': None}, {'tweet_id': 160, 'author_id': 'ChipotleTweets', 'inbound': False, 'created_at': 'Tue Oct 31 22:06:55 +0000 2017', 'text': '@115737 My apologies for that. Just sent you a DM to help. -Becky', 'response_tweet_id': '', 'in_response_to_tweet_id': 161}, {'tweet_id': 161, 'author_id': '115737', 'inbound': True, 'created_at': 'Tue Oct 31 21:59:25 +0000 2017', 'text': \"@ChipotleTweets Tried, didn't work. How rude :/\", 'response_tweet_id': '160', 'in_response_to_tweet_id': 162}, {'tweet_id': 162, 'author_id': 'ChipotleTweets', 'inbound': False, 'created_at': 'Tue Oct 31 19:51:00 +0000 2017', 'text': '@115737 Give it a try. -Tara', 'response_tweet_id': '161', 'in_response_to_tweet_id': 163}, {'tweet_id': 163, 'author_id': '115737', 'inbound': True, 'created_at': 'Tue Oct 31 19:43:47 +0000 2017', 'text': '@ChipotleTweets can I dress up as myself and still qualify for a BOORITO?', 'response_tweet_id': '162', 'in_response_to_tweet_id': None}, {'tweet_id': 164, 'author_id': 'ChipotleTweets', 'inbound': False, 'created_at': 'Tue Oct 31 22:03:32 +0000 2017', 'text': \"@115738 That's the best kind of trick-or-treating. All treats, my friend. -Becky\", 'response_tweet_id': '', 'in_response_to_tweet_id': 165}, {'tweet_id': 165, 'author_id': '115738', 'inbound': True, 'created_at': 'Tue Oct 31 21:58:28 +0000 2017', 'text': 'Every year, my trick-or-treating routine is walking to Chipotle, spending 3 dollars and walking back home. @ChipotleTweets', 'response_tweet_id': '164', 'in_response_to_tweet_id': None}, {'tweet_id': 166, 'author_id': 'ChipotleTweets', 'inbound': False, 'created_at': 'Tue Oct 31 22:02:25 +0000 2017', 'text': \"@115739 That's incredibly concerning. Please provide more details so we can investigate: https://t.co/Ax7W1Dx3Y9 -Becky\", 'response_tweet_id': '', 'in_response_to_tweet_id': 167}, {'tweet_id': 167, 'author_id': '115739', 'inbound': True, 'created_at': 'Tue Oct 31 21:57:58 +0000 2017', 'text': \"@ChipotleTweets this is nasty. A used napkin in someone's food https://t.co/EkWiD9vhnr\", 'response_tweet_id': '166', 'in_response_to_tweet_id': None}, {'tweet_id': 168, 'author_id': 'ChipotleTweets', 'inbound': False, 'created_at': 'Tue Oct 31 22:01:39 +0000 2017', 'text': \"@115740 Bummer. I'm so sorry. How far away is the closest location? -Becky\", 'response_tweet_id': '', 'in_response_to_tweet_id': 169}, {'tweet_id': 169, 'author_id': '115740', 'inbound': True, 'created_at': 'Tue Oct 31 21:57:23 +0000 2017', 'text': '$3 burritos and I’m nowhere near a @ChipotleTweets 🤦🏾\\u200d♂️', 'response_tweet_id': '168', 'in_response_to_tweet_id': None}, {'tweet_id': 170, 'author_id': 'ChipotleTweets', 'inbound': False, 'created_at': 'Tue Oct 31 22:01:00 +0000 2017', 'text': '@115741 Noted 😊 -Becky', 'response_tweet_id': '', 'in_response_to_tweet_id': 171}, {'tweet_id': 171, 'author_id': '115741', 'inbound': True, 'created_at': 'Tue Oct 31 21:57:23 +0000 2017', 'text': '@ChipotleTweets Also I got the onesie at target. So cozy', 'response_tweet_id': '170', 'in_response_to_tweet_id': 172}, {'tweet_id': 172, 'author_id': '115741', 'inbound': True, 'created_at': 'Tue Oct 31 21:57:08 +0000 2017', 'text': '@ChipotleTweets Thanks Becky! Just feeling sorry for myself because my fiancé is driving from D.C. To Mississippi tonight', 'response_tweet_id': '173,171', 'in_response_to_tweet_id': 174}, {'tweet_id': 174, 'author_id': 'ChipotleTweets', 'inbound': False, 'created_at': 'Tue Oct 31 21:56:06 +0000 2017', 'text': \"@115741 You won't be alone – we'll be there with you. Also, I want that llama onesie. -Becky\", 'response_tweet_id': '172', 'in_response_to_tweet_id': 175}, {'tweet_id': 175, 'author_id': '115741', 'inbound': True, 'created_at': 'Tue Oct 31 21:54:13 +0000 2017', 'text': 'Considering walking to @ChipotleTweets in my llama onesie alone happy Halloween 😭', 'response_tweet_id': '174', 'in_response_to_tweet_id': None}, {'tweet_id': 176, 'author_id': 'ChipotleTweets', 'inbound': False, 'created_at': 'Tue Oct 31 22:01:00 +0000 2017', 'text': '@115742 I love it! Thanks so much for stopping by. -Becky', 'response_tweet_id': '', 'in_response_to_tweet_id': 177}, {'tweet_id': 177, 'author_id': '115742', 'inbound': True, 'created_at': 'Tue Oct 31 21:57:19 +0000 2017', 'text': '@ChipotleTweets name a better halloween duo #speedwaybrick #UTtranscript https://t.co/5ShDRMlC1T', 'response_tweet_id': '176', 'in_response_to_tweet_id': None}, {'tweet_id': 178, 'author_id': 'AskPlayStation', 'inbound': False, 'created_at': 'Tue Oct 31 22:14:49 +0000 2017', 'text': '@115743 There is no info to share at the moment. Feel free to keep an eye on the PS Blog for news and updates: https://t.co/aLtfBAztyC', 'response_tweet_id': '179', 'in_response_to_tweet_id': 180}, {'tweet_id': 179, 'author_id': '115744', 'inbound': True, 'created_at': 'Tue Oct 31 22:17:05 +0000 2017', 'text': '@AskPlayStation @115743 Can I get help already??', 'response_tweet_id': '', 'in_response_to_tweet_id': 178}, {'tweet_id': 180, 'author_id': '115743', 'inbound': True, 'created_at': 'Tue Oct 31 08:17:37 +0000 2017', 'text': \"@AskPlayStation So, what's the november ps plus free game?\", 'response_tweet_id': '178,181', 'in_response_to_tweet_id': None}, {'tweet_id': 182, 'author_id': 'AskPlayStation', 'inbound': False, 'created_at': 'Tue Oct 31 22:09:50 +0000 2017', 'text': '@115745  Glad to know that is downloading, please feel free to contact us if you have further concerns.', 'response_tweet_id': '', 'in_response_to_tweet_id': 183}, {'tweet_id': 183, 'author_id': '115745', 'inbound': True, 'created_at': 'Tue Oct 31 22:06:44 +0000 2017', 'text': '@AskPlayStation It was when I would go to download it. I just waited a few hours till after I bought it and it downloaded now.', 'response_tweet_id': '182', 'in_response_to_tweet_id': 184}, {'tweet_id': 184, 'author_id': 'AskPlayStation', 'inbound': False, 'created_at': 'Tue Oct 31 22:05:06 +0000 2017', 'text': '@115745 Sorry for the inconvenience. Do you see the data corrupted message when you try to open the game or download it?', 'response_tweet_id': '183', 'in_response_to_tweet_id': 185}, {'tweet_id': 185, 'author_id': '115745', 'inbound': True, 'created_at': 'Tue Oct 31 08:14:24 +0000 2017', 'text': \"@AskPlayStation I bought Lego Star Wars in the PlayStation store but it won't let me download it because the data is corrupted..\", 'response_tweet_id': '184,186', 'in_response_to_tweet_id': None}, {'tweet_id': 187, 'author_id': 'AskPlayStation', 'inbound': False, 'created_at': 'Tue Oct 31 22:06:34 +0000 2017', 'text': '@115746  Glad to help.  Please share the details of this issue in our Community forum for further investigation: https://t.co/F3J4l2vJHb', 'response_tweet_id': '', 'in_response_to_tweet_id': 188}, {'tweet_id': 188, 'author_id': '115746', 'inbound': True, 'created_at': 'Tue Oct 31 07:58:24 +0000 2017', 'text': '@AskPlayStation can i block a community from sending me invites to something i dont want to join', 'response_tweet_id': '187,189', 'in_response_to_tweet_id': None}, {'tweet_id': 190, 'author_id': 'marksandspencer', 'inbound': False, 'created_at': 'Tue Oct 31 21:54:47 +0000 2017', 'text': '@115747 Glad you had fun, Sarah! We heard Count Collin can really suck the life out of the party  . . . :P', 'response_tweet_id': '', 'in_response_to_tweet_id': 191}, {'tweet_id': 191, 'author_id': '115747', 'inbound': True, 'created_at': 'Tue Oct 31 18:29:42 +0000 2017', 'text': 'We had to have a Count Colin 💛 @marksandspencer xx... https://t.co/HVWkevFsKB', 'response_tweet_id': '190', 'in_response_to_tweet_id': None}, {'tweet_id': 192, 'author_id': 'marksandspencer', 'inbound': False, 'created_at': 'Tue Oct 31 21:48:52 +0000 2017', 'text': \"@115748 We've let our team know we can do better, Joel. Thanks for sharing :)\", 'response_tweet_id': '', 'in_response_to_tweet_id': 193}, {'tweet_id': 193, 'author_id': '115748', 'inbound': True, 'created_at': 'Tue Oct 31 17:58:45 +0000 2017', 'text': '‘Ere @marksandspencer, never mind avocado 🥑 - How’s about ‘ave a word?\\nIs it really necessary? \\n\\nThe pair of ‘em were suffocating. https://t.co/ff2bmOVido', 'response_tweet_id': '192', 'in_response_to_tweet_id': None}, {'tweet_id': 194, 'author_id': 'marksandspencer', 'inbound': False, 'created_at': 'Tue Oct 31 21:46:06 +0000 2017', 'text': \"@115749 We're only obligated to provide bags for un-packaged meat. As ours is prepackaged, a charge will be applied\", 'response_tweet_id': '195,196,197', 'in_response_to_tweet_id': 198}, {'tweet_id': 195, 'author_id': '115749', 'inbound': True, 'created_at': 'Tue Oct 31 23:40:34 +0000 2017', 'text': '@marksandspencer Raw meat!!!! It’s does not say unwrapped raw meat!!! Sainsbury’s don’t charge nor do Waitrose so y do you?!', 'response_tweet_id': '199', 'in_response_to_tweet_id': 194}, {'tweet_id': 199, 'author_id': 'marksandspencer', 'inbound': False, 'created_at': 'Wed Nov 01 13:42:19 +0000 2017', 'text': '@115749 As our packaging is sufficient, any extra wrappings or bags does require an extra 5p charge as per legislation. Thanks', 'response_tweet_id': '200', 'in_response_to_tweet_id': 195}, {'tweet_id': 200, 'author_id': '115749', 'inbound': True, 'created_at': 'Wed Nov 01 15:54:37 +0000 2017', 'text': '@marksandspencer I check with the Gov office and legal. They stated you are not right. But it’s funny how the other stores don’t but you do. No wonder Lidl and the rest are beating you.', 'response_tweet_id': '', 'in_response_to_tweet_id': 199}, {'tweet_id': 196, 'author_id': '115749', 'inbound': True, 'created_at': 'Tue Oct 31 23:35:13 +0000 2017', 'text': '@marksandspencer ou must charge at least 5p a bag (including VAT) for carrier bags that are all of the following:\\n\\nunused - it’s new and hasn’t already been used for sold goods to be taken away or delivered\\nplastic and 70 microns thick or less\\nit has handles, an opening and isn’t sealed', 'response_tweet_id': '', 'in_response_to_tweet_id': 194}, {'tweet_id': 197, 'author_id': '115749', 'inbound': True, 'created_at': 'Tue Oct 31 23:38:53 +0000 2017', 'text': '@marksandspencer aren’t require charge 4 a bag:\\npaper bags\\nshops in airports, or on board trains, aeroplanes or ships\\nbags which only contain certain items, such as unwrapped food, raw meat and fish where there is a food safety risk, prescription medicines, uncovered blades, seeds, bulbs &amp; 🌷s', 'response_tweet_id': '', 'in_response_to_tweet_id': 194}, {'tweet_id': 198, 'author_id': '115749', 'inbound': True, 'created_at': 'Tue Oct 31 17:56:34 +0000 2017', 'text': '@marksandspencer y do they charge you for a meat bag at colliers woods branch. If you buy meat you r required to supply customers a free bag. Poor service.', 'response_tweet_id': '194', 'in_response_to_tweet_id': None}, {'tweet_id': 201, 'author_id': 'marksandspencer', 'inbound': False, 'created_at': 'Tue Oct 31 21:45:28 +0000 2017', 'text': \"@115750 Love the aesthetic of your Colin the 'Creeperpillar' and someday.... 🐛🦋👻 https://t.co/LFubix5E4y\", 'response_tweet_id': '', 'in_response_to_tweet_id': 202}, {'tweet_id': 202, 'author_id': '115750', 'inbound': True, 'created_at': 'Tue Oct 31 20:20:57 +0000 2017', 'text': 'Excellent Halloweening @marksandspencer 👌🏼 #countcolin #halloween #food https://t.co/lq1cSooHdj', 'response_tweet_id': '201', 'in_response_to_tweet_id': None}, {'tweet_id': 203, 'author_id': 'MicrosoftHelps', 'inbound': False, 'created_at': 'Tue Oct 31 22:08:00 +0000 2017', 'text': '@115751 Hello, Josh! To get better assistance and support, we suggest that you post a tweet or DM our friends from @XboxSupport.', 'response_tweet_id': '204', 'in_response_to_tweet_id': 205}, {'tweet_id': 204, 'author_id': '115751', 'inbound': True, 'created_at': 'Tue Oct 31 22:09:13 +0000 2017', 'text': '@MicrosoftHelps @XboxSupport Brilliant, thank you!', 'response_tweet_id': '', 'in_response_to_tweet_id': 203}, {'tweet_id': 205, 'author_id': '115751', 'inbound': True, 'created_at': 'Tue Oct 31 22:04:20 +0000 2017', 'text': '@MicrosoftHelps hi, having trouble making purchases on Xbox one store for fifa points, can you help?', 'response_tweet_id': '203,206', 'in_response_to_tweet_id': None}, {'tweet_id': 207, 'author_id': 'MicrosoftHelps', 'inbound': False, 'created_at': 'Tue Oct 31 22:04:21 +0000 2017', 'text': '@115752 Help is here. To assist you in recovering your account we recommend that you contact our Answer desk team: https://t.co/7zSM1QXPMD.', 'response_tweet_id': '', 'in_response_to_tweet_id': 208}, {'tweet_id': 208, 'author_id': '115752', 'inbound': True, 'created_at': 'Tue Oct 31 20:28:11 +0000 2017', 'text': '@MicrosoftHelps I need assistance recovering 2 hotmail accounts. I have  filled the recovery forms but am told am not providing enough info', 'response_tweet_id': '207', 'in_response_to_tweet_id': None}, {'tweet_id': 209, 'author_id': 'ATVIAssist', 'inbound': False, 'created_at': 'Tue Oct 31 22:14:22 +0000 2017', 'text': '@115753 It appears this has been removed. Thanks for letting me know :) ^MB', 'response_tweet_id': '', 'in_response_to_tweet_id': 210}, {'tweet_id': 210, 'author_id': '115753', 'inbound': True, 'created_at': 'Tue Oct 31 19:54:00 +0000 2017', 'text': '@ATVIAssist @115754 umm someone is streaming WWII with 500+ viewers https://t.co/AhBT7AZZSz', 'response_tweet_id': '209', 'in_response_to_tweet_id': None}, {'tweet_id': 211, 'author_id': 'ATVIAssist', 'inbound': False, 'created_at': 'Tue Oct 31 22:09:50 +0000 2017', 'text': '@115755  No problem, let us know if you come across any other issues or questions in the future. We are happy to help. ^RK', 'response_tweet_id': '212', 'in_response_to_tweet_id': 213}, {'tweet_id': 212, 'author_id': '115756', 'inbound': True, 'created_at': 'Thu Nov 02 04:03:21 +0000 2017', 'text': \"@ATVIAssist @115755 I'm trying to buy the digital deluxe edition on the ps store but I keep receiving an error message\", 'response_tweet_id': '214', 'in_response_to_tweet_id': 211}, {'tweet_id': 214, 'author_id': 'ATVIAssist', 'inbound': False, 'created_at': 'Thu Nov 02 12:42:05 +0000 2017', 'text': '@115756  Hello there. Sorry for the late response. I am just checking if you still in need assistance. Please let me know. ^RN', 'response_tweet_id': '', 'in_response_to_tweet_id': 212}, {'tweet_id': 213, 'author_id': '115755', 'inbound': True, 'created_at': 'Tue Oct 31 22:05:44 +0000 2017', 'text': '@ATVIAssist Thanks', 'response_tweet_id': '211', 'in_response_to_tweet_id': 215}, {'tweet_id': 215, 'author_id': 'ATVIAssist', 'inbound': False, 'created_at': 'Tue Oct 31 22:01:51 +0000 2017', 'text': '@115755 Yes you can pre order the game on the console store. For more information please contact your console store. ^RK', 'response_tweet_id': '213', 'in_response_to_tweet_id': 216}]\n"
          ]
        }
      ]
    },
    {
      "cell_type": "markdown",
      "source": [
        "**Example of list**"
      ],
      "metadata": {
        "id": "pOBRxIqwIgMK"
      }
    },
    {
      "cell_type": "code",
      "source": [
        "alist = [1,2,3,4,5]\n",
        "names = ['Stelios','Mary','Tom','Tim']\n",
        "\n",
        "# print(names)\n",
        "# for name in names:\n",
        "#   print(name)\n",
        "\n",
        "# for number in alist:\n",
        "#   print(number)"
      ],
      "metadata": {
        "id": "W3aDtoH8Ifg8"
      },
      "execution_count": null,
      "outputs": []
    },
    {
      "cell_type": "markdown",
      "source": [
        "Example of a dictionary versus a list"
      ],
      "metadata": {
        "id": "OwycVJXhJnuE"
      }
    },
    {
      "cell_type": "code",
      "source": [
        "customer_stelios_dict = {\"name\":\"Stelios\", \"city\":\"London\", \"age\":32}\n",
        "#                           0.         1.     2.\n",
        "customer_stelios_list = ['Stelios', 'London', 32]\n",
        "\n",
        "customer_stelios_list[1]\n",
        "customer_stelios_dict['age']"
      ],
      "metadata": {
        "colab": {
          "base_uri": "https://localhost:8080/"
        },
        "id": "LI-5rIfaJCgH",
        "outputId": "12e7a3f9-e4af-46c9-e4fd-511e90721dfe"
      },
      "execution_count": null,
      "outputs": [
        {
          "output_type": "execute_result",
          "data": {
            "text/plain": [
              "32"
            ]
          },
          "metadata": {},
          "execution_count": 12
        }
      ]
    },
    {
      "cell_type": "code",
      "source": [
        "customer_mary = {\"id\":\"1\", \"first name\":\"Mary\", \"last name\":\"Thomas\", \"city\": \"London\", \"age\":25}"
      ],
      "metadata": {
        "id": "IKBURSGEJqRc"
      },
      "execution_count": null,
      "outputs": []
    },
    {
      "cell_type": "code",
      "source": [
        "print(customer_mary)\n",
        "print(customer_mary['last name'])"
      ],
      "metadata": {
        "colab": {
          "base_uri": "https://localhost:8080/"
        },
        "id": "di4IMVb9J3IS",
        "outputId": "a0d8243e-ee10-4d41-95fd-a1cce3c0ac1f"
      },
      "execution_count": null,
      "outputs": [
        {
          "output_type": "stream",
          "name": "stdout",
          "text": [
            "{'id': '1', 'first name': 'Mary', 'last name': 'Thomas', 'city': 'London', 'age': 25}\n",
            "Thomas\n"
          ]
        }
      ]
    },
    {
      "cell_type": "code",
      "source": [
        "customer_stelios = {\"name\":\"Stelios\", \"city\":\"London\", \"age\":32}\n",
        "customer_mary = {\"name\":\"Mary\", \"city\":\"Paris\", \"age\":40}\n",
        "\n",
        "mydata = [customer_stelios,customer_mary]\n",
        "# print(mydata)\n",
        "\n",
        "for record in mydata:\n",
        "  # print(record['age'])\n",
        "  if record['age']<35:\n",
        "    print(\"A customer less than 35\")\n",
        "    print(record)"
      ],
      "metadata": {
        "colab": {
          "base_uri": "https://localhost:8080/"
        },
        "id": "UkM9ea4cJ-DZ",
        "outputId": "2fd10359-fca8-4cd2-86fd-1998750ed20d"
      },
      "execution_count": null,
      "outputs": [
        {
          "output_type": "stream",
          "name": "stdout",
          "text": [
            "A customer less than 35\n",
            "{'name': 'Stelios', 'city': 'London', 'age': 32}\n"
          ]
        }
      ]
    },
    {
      "cell_type": "markdown",
      "source": [
        "Example of exporting some data"
      ],
      "metadata": {
        "id": "urKcTXYpLHKm"
      }
    },
    {
      "cell_type": "code",
      "source": [
        "list_of_twitts=[]\n",
        "for record in data:\n",
        "  list_of_twitts.append(record['text'])\n",
        "\n",
        "print(list_of_twitts)"
      ],
      "metadata": {
        "colab": {
          "base_uri": "https://localhost:8080/"
        },
        "id": "VIp0I_18Ktck",
        "outputId": "cde0c58d-5c9a-458c-9237-844fa4b0a2d4"
      },
      "execution_count": null,
      "outputs": [
        {
          "output_type": "stream",
          "name": "stdout",
          "text": [
            "['@115712 I understand. I would like to assist you. We would need to get you into a private secured link to further assist.', '@sprintcare and how do you propose we do that', '@sprintcare I have sent several private messages and no one is responding as usual', '@115712 Please send us a Private Message so that we can further assist you. Just click ‘Message’ at the top of your profile.', '@sprintcare I did.', '@115712 Can you please send us a private message, so that I can gain further details about your account?', '@sprintcare is the worst customer service', '@115713 This is saddening to hear. Please shoot us a DM, so that we can look into this for you. -KC', '@sprintcare You gonna magically change your connectivity for me and my whole family ? 🤥 💯', \"@115713 We understand your concerns and we'd like for you to please send us a Direct Message, so that we can further assist you. -AA\", '@sprintcare Since I signed up with you....Since day 1', \"@115713 H there! We'd definitely like to work with you on this, how long have you been experiencing this issue? -AA\", '@115714 y’all lie about your “great” connection. 5 bars LTE, still won’t load something. Smh.', '@115715 Please send me a private message so that I can send you the link to access your account. -FR', \"@115714 whenever I contact customer support, they tell me I have shortcode enabled on my account, but I have never in the 4 years I've tried https://t.co/0G98RtNxPK\", '@115716 What information is incorrect? ^JK', '@Ask_Spectrum Would you like me to email you a copy of one since Spectrum is not updating your training?', \"@115716 Our department is part of the corporate office.  If you're particular area has gone to this format, we were unawa... https://t.co/P7XCmTzPQj\", '@Ask_Spectrum I received this from your corporate office would you like a copy?', '@115716 No thank you. ^JK', '@Ask_Spectrum The correct way to do it is via an OCS Account Takeover and email Consent Form it does not need to be done in a local office', '@Ask_Spectrum That is INCORRECT information I have the form in front of me that is faxed over-maybe you need to maintain up to date information', '@115716 The information pertaining to the account assumption is correct.  This does need to be done at a local outlet wit... https://t.co/P7XCmTzPQj', \"actually that's a broken link you sent me and incorrect information https://t.co/V4yfrHR8VI\", '@115717 Hello, My apologies for any frustrations or inconvenience. I’d be happy to look into this for you? ^MG', 'Yo @Ask_Spectrum, your customer service reps are super nice— but imma start trippin if y’all don’t get my service going!', '@115718 I apologize for the inconvenience. I will be glad to assist you. Can you DM me your Name and acct # or phone #? -JB', 'My picture on @Ask_Spectrum pretty much every day. Why should I pay $171 per month? https://t.co/U6ptkQa5Ik', '@115719 Help has arrived! We are sorry to see that you are having trouble. How can we help?\\n^HSB', '@VerizonSupport I finally got someone that helped me, thanks!', '@115719 Awesome! If you ever need us we are just a tweet away.\\n^HSB', \"somebody from @VerizonSupport please help meeeeee 😩😩😩😩 I'm having the worst luck with your customer service\", '@115720 Have your friend message us.\\n^ACM', '@VerizonSupport My friend is without internet we need to play videogames together please our skills diminish every moment without internetz', '@115721 Please follow and DM us so that we can look into this order. \\n^HSB', '@VerizonSupport What else can I provide? They refuse to help me because they cannot validate the account...', '@115721 We would not be able to verify anything without authenticating your account.\\n^JAY', \"@VerizonSupport How? I have my phone number and email, that's it. How did I get equipment and service? I'm literally trying to pay and nobody can find me?\", '@115721 We can use the order number to locate the account but will need to do so in our secure one on one chat. Please follow and DM us. \\n^HSB', '@115722 MD. And this was sent to the wrong address https://t.co/dMQ1WZXJOk', '@115721 Hello Duke, Do you have a copy of your bill? What state are your services located in?\\n^NHP', \"@115722 Nobody can find my account or number. I walked out of a store with this. I've explained that they can find my acct via my devices serial #..\", '@115721 Are you referring to wireless or residential service?\\n^JAY', '@115722 tried to pay a bill for 60 days. No service, rude CS, and several transfers. Look up my equipment # and give me an acct #!', '@115723 Is the light on top red?\\n^JAY', '@VerizonSupport Don’t know, router is downstairs. But it’s just the WiFi Nothing connected to Ethernet', '@115723 Did the lights change on the router when this happened?\\n^JAY', '@VerizonSupport Just randomly boots me offline there it goes again', '@115723 Do you have our Fios service?  When services go out, does the internet light on the router change color? ^BCW', '@VerizonSupport Yep', '@115723 Are all your services cutting out?\\n^ACM', '@VerizonSupport Cuts out every 20 minutes this is ridiculous', '@115723 What did we do to make you feel this way and how can we fix things between us? ^KMG', '@115722 is the worst ISP I’ve ever had', '@115724 In what area are you located? All of your services are down at this time?\\n^HSB', '.@VerizonSupport @115725 @115726                                                 &gt;All of VERIZON IS DOWN&lt;\\nWhen can we expect a fix ?', '@115727 Which app are you referring too? \\n^ACM', \"@115725 fix your app it won't even open\", '@115728 I still think you look great! -Becky', '@ChipotleTweets @ChipotleTweets Becky is very nice', \"@ChipotleTweets @28 \\nI don't fit in my Veggie Burrito costume #Halloween https://t.co/7tJDVpzLWn\", \"@115729 I'm so sorry about that. Please tell us more so we can help: https://t.co/Ax7W1Dx3Y9 -Becky\", '@ChipotleTweets messed up today and didn’t give me my $3 burrito although I was dressed up 😭', \"@115730 Hopefully we'll get there at some point! -Becky\", \"hey @ChipotleTweets wanna come to Mammoth. I'll at least eat there once a week i promise\", \"@115731 Guac on! I'm happy it was such a great experience. -Becky\", '@ChipotleTweets I had excellent service tonight too! Plenty of people on the line, went very fast, everyone was kind!', \"@115731 It's because you're smart. -Tara\", \"When you're the only one in costume #boorito @ChipotleTweets\", \"@115732 That's incredibly concerning. Please tell us more here: https://t.co/Ax7W1Dx3Y9 -Becky\", '@ChipotleTweets no Diet Coke and a literal bone this Boorito was extra spooky! https://t.co/C4oCCtdUct', '@115733 Nope! Still just the $3. -Becky', \"@ChipotleTweets If you get queso or quac on you're bowl, its extra?\", 'Just stop by in costume 10/31 3pm-close. Official rules: https://t.co/1HmW7QxwEh https://t.co/Wn0xErxC2z', '@115734 I mean, Boorito is basically the adult version of Halloween... -Becky', \"Happy Halloween! Since I'm too old to trick or treat I now look forward to $3 booritos at @ChipotleTweets 👻 I got mine earlier, did you?\", \"@115735 I'm so glad we could help. Who did you work with? I'd like to share the praise. -Becky\", '@ChipotleTweets Thank you @ChipotleTweets for resolving my issue so quickly!! Y’all are the best ☺️ #fanforlife', 'So frustrated with @ChipotleTweets 😡 Ordered dinner on Saturday using their app. Order was wrong AND they charged my credit card twice', '@115736 All of our U.S. locations are participating! -Becky', 'Btw @ChipotleTweets giving out $3 burritos if you dress up for Halloween 🎃 Call your Chipotle to make sure, they’re doing it @ select ones', '@115737 My apologies for that. Just sent you a DM to help. -Becky', \"@ChipotleTweets Tried, didn't work. How rude :/\", '@115737 Give it a try. -Tara', '@ChipotleTweets can I dress up as myself and still qualify for a BOORITO?', \"@115738 That's the best kind of trick-or-treating. All treats, my friend. -Becky\", 'Every year, my trick-or-treating routine is walking to Chipotle, spending 3 dollars and walking back home. @ChipotleTweets', \"@115739 That's incredibly concerning. Please provide more details so we can investigate: https://t.co/Ax7W1Dx3Y9 -Becky\", \"@ChipotleTweets this is nasty. A used napkin in someone's food https://t.co/EkWiD9vhnr\", \"@115740 Bummer. I'm so sorry. How far away is the closest location? -Becky\", '$3 burritos and I’m nowhere near a @ChipotleTweets 🤦🏾\\u200d♂️', '@115741 Noted 😊 -Becky', '@ChipotleTweets Also I got the onesie at target. So cozy', '@ChipotleTweets Thanks Becky! Just feeling sorry for myself because my fiancé is driving from D.C. To Mississippi tonight', \"@115741 You won't be alone – we'll be there with you. Also, I want that llama onesie. -Becky\", 'Considering walking to @ChipotleTweets in my llama onesie alone happy Halloween 😭', '@115742 I love it! Thanks so much for stopping by. -Becky', '@ChipotleTweets name a better halloween duo #speedwaybrick #UTtranscript https://t.co/5ShDRMlC1T', '@115743 There is no info to share at the moment. Feel free to keep an eye on the PS Blog for news and updates: https://t.co/aLtfBAztyC', '@AskPlayStation @115743 Can I get help already??', \"@AskPlayStation So, what's the november ps plus free game?\", '@115745  Glad to know that is downloading, please feel free to contact us if you have further concerns.', '@AskPlayStation It was when I would go to download it. I just waited a few hours till after I bought it and it downloaded now.', '@115745 Sorry for the inconvenience. Do you see the data corrupted message when you try to open the game or download it?', \"@AskPlayStation I bought Lego Star Wars in the PlayStation store but it won't let me download it because the data is corrupted..\", '@115746  Glad to help.  Please share the details of this issue in our Community forum for further investigation: https://t.co/F3J4l2vJHb', '@AskPlayStation can i block a community from sending me invites to something i dont want to join', '@115747 Glad you had fun, Sarah! We heard Count Collin can really suck the life out of the party  . . . :P', 'We had to have a Count Colin 💛 @marksandspencer xx... https://t.co/HVWkevFsKB', \"@115748 We've let our team know we can do better, Joel. Thanks for sharing :)\", '‘Ere @marksandspencer, never mind avocado 🥑 - How’s about ‘ave a word?\\nIs it really necessary? \\n\\nThe pair of ‘em were suffocating. https://t.co/ff2bmOVido', \"@115749 We're only obligated to provide bags for un-packaged meat. As ours is prepackaged, a charge will be applied\", '@marksandspencer Raw meat!!!! It’s does not say unwrapped raw meat!!! Sainsbury’s don’t charge nor do Waitrose so y do you?!', '@115749 As our packaging is sufficient, any extra wrappings or bags does require an extra 5p charge as per legislation. Thanks', '@marksandspencer I check with the Gov office and legal. They stated you are not right. But it’s funny how the other stores don’t but you do. No wonder Lidl and the rest are beating you.', '@marksandspencer ou must charge at least 5p a bag (including VAT) for carrier bags that are all of the following:\\n\\nunused - it’s new and hasn’t already been used for sold goods to be taken away or delivered\\nplastic and 70 microns thick or less\\nit has handles, an opening and isn’t sealed', '@marksandspencer aren’t require charge 4 a bag:\\npaper bags\\nshops in airports, or on board trains, aeroplanes or ships\\nbags which only contain certain items, such as unwrapped food, raw meat and fish where there is a food safety risk, prescription medicines, uncovered blades, seeds, bulbs &amp; 🌷s', '@marksandspencer y do they charge you for a meat bag at colliers woods branch. If you buy meat you r required to supply customers a free bag. Poor service.', \"@115750 Love the aesthetic of your Colin the 'Creeperpillar' and someday.... 🐛🦋👻 https://t.co/LFubix5E4y\", 'Excellent Halloweening @marksandspencer 👌🏼 #countcolin #halloween #food https://t.co/lq1cSooHdj', '@115751 Hello, Josh! To get better assistance and support, we suggest that you post a tweet or DM our friends from @XboxSupport.', '@MicrosoftHelps @XboxSupport Brilliant, thank you!', '@MicrosoftHelps hi, having trouble making purchases on Xbox one store for fifa points, can you help?', '@115752 Help is here. To assist you in recovering your account we recommend that you contact our Answer desk team: https://t.co/7zSM1QXPMD.', '@MicrosoftHelps I need assistance recovering 2 hotmail accounts. I have  filled the recovery forms but am told am not providing enough info', '@115753 It appears this has been removed. Thanks for letting me know :) ^MB', '@ATVIAssist @115754 umm someone is streaming WWII with 500+ viewers https://t.co/AhBT7AZZSz', '@115755  No problem, let us know if you come across any other issues or questions in the future. We are happy to help. ^RK', \"@ATVIAssist @115755 I'm trying to buy the digital deluxe edition on the ps store but I keep receiving an error message\", '@115756  Hello there. Sorry for the late response. I am just checking if you still in need assistance. Please let me know. ^RN', '@ATVIAssist Thanks', '@115755 Yes you can pre order the game on the console store. For more information please contact your console store. ^RK']\n"
          ]
        }
      ]
    },
    {
      "cell_type": "markdown",
      "source": [
        "Performing a data cleaning task.\n",
        "\n",
        "Explore if a record is empty."
      ],
      "metadata": {
        "id": "pV5X7PcjLoRc"
      }
    },
    {
      "cell_type": "code",
      "source": [
        "empty = False\n",
        "for record in data:\n",
        "  # print(record['text'])\n",
        "  if record['text']==\"\":\n",
        "    empty = True\n",
        "    print(record)\n",
        "\n",
        "print(empty)"
      ],
      "metadata": {
        "colab": {
          "base_uri": "https://localhost:8080/"
        },
        "id": "Rq1iamlVLOR9",
        "outputId": "ef50d1ac-383e-4059-c7f4-163be4fcabc2"
      },
      "execution_count": null,
      "outputs": [
        {
          "output_type": "stream",
          "name": "stdout",
          "text": [
            "{'tweet_id': 1, 'author_id': 'sprintcare', 'inbound': False, 'created_at': 'Tue Oct 31 22:10:47 +0000 2017', 'text': '', 'response_tweet_id': '2', 'in_response_to_tweet_id': 3}\n",
            "{'tweet_id': 4, 'author_id': 'sprintcare', 'inbound': False, 'created_at': 'Tue Oct 31 21:54:49 +0000 2017', 'text': '', 'response_tweet_id': '3', 'in_response_to_tweet_id': 5}\n",
            "{'tweet_id': 12, 'author_id': '115713', 'inbound': True, 'created_at': 'Tue Oct 31 22:04:47 +0000 2017', 'text': '', 'response_tweet_id': '11,13,14', 'in_response_to_tweet_id': 15}\n",
            "True\n"
          ]
        }
      ]
    },
    {
      "cell_type": "markdown",
      "source": [
        "Count empty records (another data cleaning task)"
      ],
      "metadata": {
        "id": "6beH2qTnMLzh"
      }
    },
    {
      "cell_type": "code",
      "source": [
        "count = 0\n",
        "for record in data:\n",
        "  if(record['text']==\"\"):\n",
        "    count=count+1\n",
        "\n",
        "print(\"Empty records: \", count)"
      ],
      "metadata": {
        "colab": {
          "base_uri": "https://localhost:8080/"
        },
        "id": "Ae3GbBoEMLbN",
        "outputId": "4787b016-dd4a-4e4b-c322-61a71dc5e9fc"
      },
      "execution_count": null,
      "outputs": [
        {
          "output_type": "stream",
          "name": "stdout",
          "text": [
            "Empty records:  3\n"
          ]
        }
      ]
    },
    {
      "cell_type": "code",
      "source": [
        "count = 0\n",
        "for record in data:\n",
        "  if(record['response_tweet_id']==\"\"):\n",
        "    count=count+1\n",
        "\n",
        "print(\"Empty records in the response tweet id: \", count)"
      ],
      "metadata": {
        "colab": {
          "base_uri": "https://localhost:8080/"
        },
        "id": "EJyUV8e_MnmY",
        "outputId": "6fcc9008-7b75-4582-b81c-f0840dee416f"
      },
      "execution_count": null,
      "outputs": [
        {
          "output_type": "stream",
          "name": "stdout",
          "text": [
            "Empty records in the response tweet id:  41\n"
          ]
        }
      ]
    },
    {
      "cell_type": "markdown",
      "source": [
        "Extract data for **marksandspencer** author id."
      ],
      "metadata": {
        "id": "QgRP5tPoNCQV"
      }
    },
    {
      "cell_type": "code",
      "source": [
        "count_ms=0\n",
        "for record in data:\n",
        "  if(record['author_id']=='marksandspencer'):\n",
        "    print(record)\n",
        "    count_ms+=1\n",
        "print(\"Number of m&s tweets:\", count_ms)"
      ],
      "metadata": {
        "colab": {
          "base_uri": "https://localhost:8080/"
        },
        "id": "4orrQUePMzvs",
        "outputId": "d7f376fd-3777-4869-a174-1ff35973b095"
      },
      "execution_count": null,
      "outputs": [
        {
          "output_type": "stream",
          "name": "stdout",
          "text": [
            "{'tweet_id': 190, 'author_id': 'marksandspencer', 'inbound': False, 'created_at': 'Tue Oct 31 21:54:47 +0000 2017', 'text': '@115747 Glad you had fun, Sarah! We heard Count Collin can really suck the life out of the party  . . . :P', 'response_tweet_id': '', 'in_response_to_tweet_id': 191}\n",
            "{'tweet_id': 192, 'author_id': 'marksandspencer', 'inbound': False, 'created_at': 'Tue Oct 31 21:48:52 +0000 2017', 'text': \"@115748 We've let our team know we can do better, Joel. Thanks for sharing :)\", 'response_tweet_id': '', 'in_response_to_tweet_id': 193}\n",
            "{'tweet_id': 194, 'author_id': 'marksandspencer', 'inbound': False, 'created_at': 'Tue Oct 31 21:46:06 +0000 2017', 'text': \"@115749 We're only obligated to provide bags for un-packaged meat. As ours is prepackaged, a charge will be applied\", 'response_tweet_id': '195,196,197', 'in_response_to_tweet_id': 198}\n",
            "{'tweet_id': 199, 'author_id': 'marksandspencer', 'inbound': False, 'created_at': 'Wed Nov 01 13:42:19 +0000 2017', 'text': '@115749 As our packaging is sufficient, any extra wrappings or bags does require an extra 5p charge as per legislation. Thanks', 'response_tweet_id': '200', 'in_response_to_tweet_id': 195}\n",
            "{'tweet_id': 201, 'author_id': 'marksandspencer', 'inbound': False, 'created_at': 'Tue Oct 31 21:45:28 +0000 2017', 'text': \"@115750 Love the aesthetic of your Colin the 'Creeperpillar' and someday.... 🐛🦋👻 https://t.co/LFubix5E4y\", 'response_tweet_id': '', 'in_response_to_tweet_id': 202}\n",
            "Number of m&s tweets: 5\n"
          ]
        }
      ]
    },
    {
      "cell_type": "markdown",
      "source": [
        "Extract data for text:\n",
        "* I want to find tweets that have the word **wrappings** in their text."
      ],
      "metadata": {
        "id": "PhgPQDH4NXpL"
      }
    },
    {
      "cell_type": "code",
      "source": [
        "for record in data:\n",
        "  if(\"wrappings\" in record['text']):\n",
        "    print(record)"
      ],
      "metadata": {
        "colab": {
          "base_uri": "https://localhost:8080/"
        },
        "id": "Vx-DVIImNkib",
        "outputId": "d8dc4362-29e1-4a92-9224-fb1d5311c11d"
      },
      "execution_count": null,
      "outputs": [
        {
          "output_type": "stream",
          "name": "stdout",
          "text": [
            "{'tweet_id': 199, 'author_id': 'marksandspencer', 'inbound': False, 'created_at': 'Wed Nov 01 13:42:19 +0000 2017', 'text': '@115749 As our packaging is sufficient, any extra wrappings or bags does require an extra 5p charge as per legislation. Thanks', 'response_tweet_id': '200', 'in_response_to_tweet_id': 195}\n"
          ]
        }
      ]
    },
    {
      "cell_type": "markdown",
      "source": [
        "* I want to find text that includes the word **team**"
      ],
      "metadata": {
        "id": "6tVUIlhdN1XU"
      }
    },
    {
      "cell_type": "code",
      "source": [
        "for record in data:\n",
        "  if(\"team\" in record['text']):\n",
        "    print(record)"
      ],
      "metadata": {
        "colab": {
          "base_uri": "https://localhost:8080/"
        },
        "id": "VObepVZQN5fs",
        "outputId": "58ddb12c-a1bf-428f-c81e-a19ec8131900"
      },
      "execution_count": null,
      "outputs": [
        {
          "output_type": "stream",
          "name": "stdout",
          "text": [
            "{'tweet_id': 192, 'author_id': 'marksandspencer', 'inbound': False, 'created_at': 'Tue Oct 31 21:48:52 +0000 2017', 'text': \"@115748 We've let our team know we can do better, Joel. Thanks for sharing :)\", 'response_tweet_id': '', 'in_response_to_tweet_id': 193}\n",
            "{'tweet_id': 207, 'author_id': 'MicrosoftHelps', 'inbound': False, 'created_at': 'Tue Oct 31 22:04:21 +0000 2017', 'text': '@115752 Help is here. To assist you in recovering your account we recommend that you contact our Answer desk team: https://t.co/7zSM1QXPMD.', 'response_tweet_id': '', 'in_response_to_tweet_id': 208}\n"
          ]
        }
      ]
    },
    {
      "cell_type": "code",
      "source": [
        "for record in data:\n",
        "  if(\"@115712\" in record['text']):\n",
        "    print(record)"
      ],
      "metadata": {
        "colab": {
          "base_uri": "https://localhost:8080/"
        },
        "id": "a9huuIiZOMSq",
        "outputId": "6bca6d3c-fbe1-4d37-cd48-25d0dcb4211e"
      },
      "execution_count": null,
      "outputs": [
        {
          "output_type": "stream",
          "name": "stdout",
          "text": [
            "{'tweet_id': 6, 'author_id': 'sprintcare', 'inbound': False, 'created_at': 'Tue Oct 31 21:46:24 +0000 2017', 'text': '@115712 Can you please send us a private message, so that I can gain further details about your account?', 'response_tweet_id': '5,7', 'in_response_to_tweet_id': 8}\n"
          ]
        }
      ]
    },
    {
      "cell_type": "code",
      "source": [
        "alist = []\n",
        "for record in data:\n",
        "    alist.append(record['author_id'])"
      ],
      "metadata": {
        "id": "kgdeFebOOjzd"
      },
      "execution_count": null,
      "outputs": []
    },
    {
      "cell_type": "markdown",
      "source": [
        "How to create a list of unique data. You can use a set!"
      ],
      "metadata": {
        "id": "kfWgud4-O7j-"
      }
    },
    {
      "cell_type": "code",
      "source": [
        "unique_list = set(alist)\n",
        "# unique_list"
      ],
      "metadata": {
        "id": "mkDVdqvgOxmU"
      },
      "execution_count": null,
      "outputs": []
    },
    {
      "cell_type": "code",
      "source": [
        "alist"
      ],
      "metadata": {
        "colab": {
          "base_uri": "https://localhost:8080/"
        },
        "id": "-_b-Z9uOPCSS",
        "outputId": "149534c1-aba8-4c50-a12c-869ecd3c8a53"
      },
      "execution_count": null,
      "outputs": [
        {
          "output_type": "execute_result",
          "data": {
            "text/plain": [
              "['sprintcare',\n",
              " '115712',\n",
              " '115712',\n",
              " 'sprintcare',\n",
              " '115712',\n",
              " 'sprintcare',\n",
              " '115712',\n",
              " 'sprintcare',\n",
              " '115713',\n",
              " 'sprintcare',\n",
              " '115713',\n",
              " 'sprintcare',\n",
              " '115713',\n",
              " 'sprintcare',\n",
              " '115715',\n",
              " 'Ask_Spectrum',\n",
              " '115716',\n",
              " 'Ask_Spectrum',\n",
              " '115716',\n",
              " 'Ask_Spectrum',\n",
              " '115716',\n",
              " '115716',\n",
              " 'Ask_Spectrum',\n",
              " '115716',\n",
              " 'Ask_Spectrum',\n",
              " '115717',\n",
              " 'Ask_Spectrum',\n",
              " '115718',\n",
              " 'VerizonSupport',\n",
              " '115719',\n",
              " 'VerizonSupport',\n",
              " '115719',\n",
              " 'VerizonSupport',\n",
              " '115720',\n",
              " 'VerizonSupport',\n",
              " '115721',\n",
              " 'VerizonSupport',\n",
              " '115721',\n",
              " 'VerizonSupport',\n",
              " '115721',\n",
              " '115722',\n",
              " '115721',\n",
              " '115722',\n",
              " '115721',\n",
              " 'VerizonSupport',\n",
              " '115723',\n",
              " 'VerizonSupport',\n",
              " '115723',\n",
              " 'VerizonSupport',\n",
              " '115723',\n",
              " 'VerizonSupport',\n",
              " '115723',\n",
              " 'VerizonSupport',\n",
              " '115723',\n",
              " 'VerizonSupport',\n",
              " '115724',\n",
              " 'VerizonSupport',\n",
              " '115727',\n",
              " 'ChipotleTweets',\n",
              " '115728',\n",
              " '115728',\n",
              " 'ChipotleTweets',\n",
              " '115729',\n",
              " 'ChipotleTweets',\n",
              " '115730',\n",
              " 'ChipotleTweets',\n",
              " '115731',\n",
              " 'ChipotleTweets',\n",
              " '115731',\n",
              " 'ChipotleTweets',\n",
              " '115732',\n",
              " 'ChipotleTweets',\n",
              " '115733',\n",
              " 'ChipotleTweets',\n",
              " 'ChipotleTweets',\n",
              " '115734',\n",
              " 'ChipotleTweets',\n",
              " '115735',\n",
              " '115735',\n",
              " 'ChipotleTweets',\n",
              " '115736',\n",
              " 'ChipotleTweets',\n",
              " '115737',\n",
              " 'ChipotleTweets',\n",
              " '115737',\n",
              " 'ChipotleTweets',\n",
              " '115738',\n",
              " 'ChipotleTweets',\n",
              " '115739',\n",
              " 'ChipotleTweets',\n",
              " '115740',\n",
              " 'ChipotleTweets',\n",
              " '115741',\n",
              " '115741',\n",
              " 'ChipotleTweets',\n",
              " '115741',\n",
              " 'ChipotleTweets',\n",
              " '115742',\n",
              " 'AskPlayStation',\n",
              " '115744',\n",
              " '115743',\n",
              " 'AskPlayStation',\n",
              " '115745',\n",
              " 'AskPlayStation',\n",
              " '115745',\n",
              " 'AskPlayStation',\n",
              " '115746',\n",
              " 'marksandspencer',\n",
              " '115747',\n",
              " 'marksandspencer',\n",
              " '115748',\n",
              " 'marksandspencer',\n",
              " '115749',\n",
              " 'marksandspencer',\n",
              " '115749',\n",
              " '115749',\n",
              " '115749',\n",
              " '115749',\n",
              " 'marksandspencer',\n",
              " '115750',\n",
              " 'MicrosoftHelps',\n",
              " '115751',\n",
              " '115751',\n",
              " 'MicrosoftHelps',\n",
              " '115752',\n",
              " 'ATVIAssist',\n",
              " '115753',\n",
              " 'ATVIAssist',\n",
              " '115756',\n",
              " 'ATVIAssist',\n",
              " '115755',\n",
              " 'ATVIAssist']"
            ]
          },
          "metadata": {},
          "execution_count": 71
        }
      ]
    },
    {
      "cell_type": "markdown",
      "source": [
        "Example of a script for frequencies in Python."
      ],
      "metadata": {
        "id": "aBhsq0_KPkHS"
      }
    },
    {
      "cell_type": "code",
      "source": [
        "def CountFrequency(my_list):\n",
        "   # Creating an empty dictionary\n",
        "   count = {}\n",
        "   for i in my_list:\n",
        "    count[i] = count.get(i, 0) + 1\n",
        "   return count\n",
        "\n",
        "print(CountFrequency(alist))"
      ],
      "metadata": {
        "colab": {
          "base_uri": "https://localhost:8080/"
        },
        "id": "t-X_UlLGPNuJ",
        "outputId": "2d3cd51a-326f-44dd-e9fa-e63ff48dbd55"
      },
      "execution_count": null,
      "outputs": [
        {
          "output_type": "stream",
          "name": "stdout",
          "text": [
            "{'sprintcare': 7, '115712': 4, '115713': 3, '115715': 1, 'Ask_Spectrum': 6, '115716': 5, '115717': 1, '115718': 1, 'VerizonSupport': 13, '115719': 2, '115720': 1, '115721': 5, '115722': 2, '115723': 5, '115724': 1, '115727': 1, 'ChipotleTweets': 19, '115728': 2, '115729': 1, '115730': 1, '115731': 2, '115732': 1, '115733': 1, '115734': 1, '115735': 2, '115736': 1, '115737': 2, '115738': 1, '115739': 1, '115740': 1, '115741': 3, '115742': 1, 'AskPlayStation': 4, '115744': 1, '115743': 1, '115745': 2, '115746': 1, 'marksandspencer': 5, '115747': 1, '115748': 1, '115749': 5, '115750': 1, 'MicrosoftHelps': 2, '115751': 2, '115752': 1, 'ATVIAssist': 4, '115753': 1, '115756': 1, '115755': 1}\n"
          ]
        }
      ]
    },
    {
      "cell_type": "markdown",
      "source": [
        "More here: https://www.geeksforgeeks.org/counting-the-frequencies-in-a-list-using-dictionary-in-python/"
      ],
      "metadata": {
        "id": "O89FKKTnPxc5"
      }
    },
    {
      "cell_type": "markdown",
      "source": [
        "The next script demonstrates an example of exploring the records that include the text \"you like\""
      ],
      "metadata": {
        "id": "LHX1uP6NQt6u"
      }
    },
    {
      "cell_type": "code",
      "source": [
        "for record in data:\n",
        "  if \"you like\" in record['text']:\n",
        "    print(record)"
      ],
      "metadata": {
        "colab": {
          "base_uri": "https://localhost:8080/"
        },
        "id": "ISK1P8nlQVVk",
        "outputId": "581cf337-de6b-4e51-8f75-e142c2b6e658"
      },
      "execution_count": null,
      "outputs": [
        {
          "output_type": "stream",
          "name": "stdout",
          "text": [
            "{'tweet_id': 22, 'author_id': '115716', 'inbound': True, 'created_at': 'Tue Oct 31 22:16:48 +0000 2017', 'text': '@Ask_Spectrum Would you like me to email you a copy of one since Spectrum is not updating your training?', 'response_tweet_id': '25', 'in_response_to_tweet_id': 21}\n",
            "{'tweet_id': 26, 'author_id': '115716', 'inbound': True, 'created_at': 'Tue Oct 31 22:19:56 +0000 2017', 'text': '@Ask_Spectrum I received this from your corporate office would you like a copy?', 'response_tweet_id': '27', 'in_response_to_tweet_id': 25}\n"
          ]
        }
      ]
    }
  ]
}