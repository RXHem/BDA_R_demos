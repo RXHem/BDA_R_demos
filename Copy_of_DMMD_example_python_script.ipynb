{
  "nbformat": 4,
  "nbformat_minor": 0,
  "metadata": {
    "colab": {
      "provenance": [],
      "include_colab_link": true
    },
    "kernelspec": {
      "name": "python3",
      "display_name": "Python 3"
    },
    "language_info": {
      "name": "python"
    }
  },
  "cells": [
    {
      "cell_type": "markdown",
      "metadata": {
        "id": "view-in-github",
        "colab_type": "text"
      },
      "source": [
        "<a href=\"https://colab.research.google.com/github/RXHem/BDA_R_demos/blob/master/Copy_of_DMMD_example_python_script.ipynb\" target=\"_parent\"><img src=\"https://colab.research.google.com/assets/colab-badge.svg\" alt=\"Open In Colab\"/></a>"
      ]
    },
    {
      "cell_type": "code",
      "execution_count": null,
      "metadata": {
        "colab": {
          "base_uri": "https://localhost:8080/"
        },
        "id": "wvxRSW89CuWC",
        "outputId": "2c744cb5-8157-4d41-f911-891e4fa39477"
      },
      "outputs": [
        {
          "output_type": "stream",
          "name": "stdout",
          "text": [
            "Hello!\n"
          ]
        }
      ],
      "source": [
        "# This is an example of print statement\n",
        "\n",
        "print(\"Hello!\")"
      ]
    },
    {
      "cell_type": "code",
      "source": [
        "# Variable name is x\n",
        "# x is an integer\n",
        "\n",
        "x = 10\n",
        "y = 20\n",
        "print(x-y)"
      ],
      "metadata": {
        "colab": {
          "base_uri": "https://localhost:8080/"
        },
        "id": "iqhRQ1V_CyiV",
        "outputId": "f05a1bea-a511-4bc5-ed14-318b89940700"
      },
      "execution_count": null,
      "outputs": [
        {
          "output_type": "stream",
          "name": "stdout",
          "text": [
            "-10\n"
          ]
        }
      ]
    },
    {
      "cell_type": "code",
      "source": [
        "name = input(\"What is your name? \")\n",
        "\n",
        "print(name)"
      ],
      "metadata": {
        "colab": {
          "base_uri": "https://localhost:8080/"
        },
        "id": "rnXhIyvsDf0L",
        "outputId": "16f8b1fc-c48a-444e-c5fe-1a6e3fdd4b88"
      },
      "execution_count": null,
      "outputs": [
        {
          "output_type": "stream",
          "name": "stdout",
          "text": [
            "What is your name? Stelios\n",
            "Stelios\n"
          ]
        }
      ]
    },
    {
      "cell_type": "code",
      "source": [
        "# city is a variable (city is text)\n",
        "city = input(\"Where are you from: \")\n",
        "\n",
        "# , means concatenation of text\n",
        "print(\"You are from\",city)"
      ],
      "metadata": {
        "colab": {
          "base_uri": "https://localhost:8080/"
        },
        "id": "QZjcF-5mDoyw",
        "outputId": "ad0d9065-8252-4db1-c296-2e50e9802d35"
      },
      "execution_count": null,
      "outputs": [
        {
          "output_type": "stream",
          "name": "stdout",
          "text": [
            "Where are you from: London\n",
            "You are from London\n"
          ]
        }
      ]
    },
    {
      "cell_type": "code",
      "source": [
        "# float is a decimal based number\n",
        "amount = 12345.50"
      ],
      "metadata": {
        "id": "rpfy97s3D8Pl"
      },
      "execution_count": null,
      "outputs": []
    },
    {
      "cell_type": "code",
      "source": [
        "# customers is a list!\n",
        "customers = ['Stelios', 'Mary', 'Tom', 'Kate']\n",
        "cities = ['London','Toronto','Tokyo','Paris']"
      ],
      "metadata": {
        "id": "QAjBtrNwEHto"
      },
      "execution_count": null,
      "outputs": []
    },
    {
      "cell_type": "code",
      "source": [
        "print(customers)\n",
        "print(cities)"
      ],
      "metadata": {
        "colab": {
          "base_uri": "https://localhost:8080/"
        },
        "id": "eDyjiBQ0EWM7",
        "outputId": "47e30a2b-65a0-4880-8f82-d222d9604de2"
      },
      "execution_count": null,
      "outputs": [
        {
          "output_type": "stream",
          "name": "stdout",
          "text": [
            "['Stelios', 'Mary', 'Tom', 'Kate']\n",
            "['London', 'Toronto', 'Tokyo', 'Paris']\n"
          ]
        }
      ]
    },
    {
      "cell_type": "code",
      "source": [
        "#index           0        1       2      3\n",
        "customers = ['Stelios', 'Mary', 'Tom', 'Kate']\n",
        "cities = ['London','Toronto','Tokyo','Paris']"
      ],
      "metadata": {
        "id": "4Qh-j48bEg9Z"
      },
      "execution_count": null,
      "outputs": []
    },
    {
      "cell_type": "code",
      "source": [
        "print(customers[1])\n",
        "print(cities[1])"
      ],
      "metadata": {
        "colab": {
          "base_uri": "https://localhost:8080/"
        },
        "id": "ECFPleubEpQP",
        "outputId": "540cc8ff-0725-48b5-d296-627e01273c9c"
      },
      "execution_count": null,
      "outputs": [
        {
          "output_type": "stream",
          "name": "stdout",
          "text": [
            "Mary\n",
            "Toronto\n"
          ]
        }
      ]
    },
    {
      "cell_type": "code",
      "source": [
        "# this is a dictionary!\n",
        "# you create the index names (TITLES)\n",
        "#                           name.            city        age\n",
        "customers_dict = {\"name\":\"Stelios\",\"city\":\"London\",\"age\":32, \"amount\":1000 }\n",
        "\n",
        "print(customers_dict[\"name\"])\n",
        "print(customers_dict[\"amount\"])"
      ],
      "metadata": {
        "colab": {
          "base_uri": "https://localhost:8080/"
        },
        "id": "so0ACWuDE-Wl",
        "outputId": "3774657f-9da2-4902-bdb7-6f80b92f6576"
      },
      "execution_count": null,
      "outputs": [
        {
          "output_type": "stream",
          "name": "stdout",
          "text": [
            "Stelios\n",
            "1000\n"
          ]
        }
      ]
    },
    {
      "cell_type": "code",
      "source": [
        "#                    0         1      2\n",
        "customers_list = [\"Stelios\",\"London\", 32]\n",
        "customers_list[2]"
      ],
      "metadata": {
        "colab": {
          "base_uri": "https://localhost:8080/"
        },
        "id": "f8S0wnKNFX-A",
        "outputId": "96e065bd-80ae-4216-9925-f5a425c10c28"
      },
      "execution_count": null,
      "outputs": [
        {
          "output_type": "execute_result",
          "data": {
            "text/plain": [
              "32"
            ]
          },
          "metadata": {},
          "execution_count": 33
        }
      ]
    },
    {
      "cell_type": "markdown",
      "source": [
        "This is an example of JSON like file."
      ],
      "metadata": {
        "id": "-4MMms0oGvGE"
      }
    },
    {
      "cell_type": "code",
      "source": [
        "customers_dict = [\n",
        "    {\"name\":\"Stelios\",\"city\":\"London\",\"age\":32, \"amount\":1000 },    # row 0\n",
        "    {\"name\":\"Kate\",\"city\":\"Paris\",\"age\":25, \"amount\":1500 },        # row 1\n",
        "    {\"name\":\"Mary\",\"city\":\"Toronto\",\"age\":36, \"amount\":2000 }       # row 2\n",
        "]\n",
        "print(customers_dict[1]['amount'])"
      ],
      "metadata": {
        "colab": {
          "base_uri": "https://localhost:8080/"
        },
        "id": "IPtYvRxTGB95",
        "outputId": "2770a0b0-3d4b-4bea-ccb6-3de1704d585c"
      },
      "execution_count": null,
      "outputs": [
        {
          "output_type": "stream",
          "name": "stdout",
          "text": [
            "1500\n"
          ]
        }
      ]
    },
    {
      "cell_type": "code",
      "source": [
        "twitter_data =  [\n",
        "    {\"name\":\"Stelios\",\"city\":\"London\", \"post\":\"Hello world!\", \"organisation\":\"Education\" },    # row 0\n",
        "    {\"name\":\"Kate\",\"city\":\"Paris\", \"post\":\"Hi there!\", \"organisation\":\"Healthcare\"  },      # row 1\n",
        "    {\"name\":\"Mary\",\"city\":\"Toronto\", \"post\":\"I am using Twitter\" },       # row 2\n",
        "    {\"name\":\"Mary\",\"city\":\"Athens\", \"post\":\"I am from Athens\" }       # row 3\n",
        "]\n",
        "\n",
        "print(twitter_data[2]['city'])"
      ],
      "metadata": {
        "colab": {
          "base_uri": "https://localhost:8080/"
        },
        "id": "76DrPsWTG7cW",
        "outputId": "a52d3622-42a6-49f8-b482-bd6552f7b5ba"
      },
      "execution_count": null,
      "outputs": [
        {
          "output_type": "stream",
          "name": "stdout",
          "text": [
            "Toronto\n"
          ]
        }
      ]
    },
    {
      "cell_type": "markdown",
      "source": [
        "Tutorial on Python:\n",
        "\n",
        "* https://www.youtube.com/watch?v=nwjAHQERL08&list=PLGLfVvz_LVvTn3cK5e6LjhgGiSeVlIRwt\n",
        "\n",
        "* Find a tutorial on using Python for JSON data\n",
        "\n",
        "* https://towardsdatascience.com/twitter-json-data-processing-3f353a5deac4"
      ],
      "metadata": {
        "id": "j5KFcmMiIGVi"
      }
    },
    {
      "cell_type": "markdown",
      "source": [
        "* Tutorial on how to use colab:\n",
        "- https://www.youtube.com/watch?v=RLYoEyIHL6A"
      ],
      "metadata": {
        "id": "bp0nrvIaJtCx"
      }
    }
  ]
}